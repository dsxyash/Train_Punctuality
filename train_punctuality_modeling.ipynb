{
 "cells": [
  {
   "cell_type": "code",
   "execution_count": 206,
   "id": "08fbabd8-bd45-406d-bfee-ed3728ae60d4",
   "metadata": {},
   "outputs": [],
   "source": [
    "#Importing the clean dataset that was exported from Databricks because of environment problems, \n",
    "#the pre-processing continued here before the model implementation was also conducted"
   ]
  },
  {
   "cell_type": "code",
   "execution_count": 1,
   "id": "0ad3e7a9-c3de-4990-81a2-44be496a1e37",
   "metadata": {},
   "outputs": [],
   "source": [
    "import pandas as pd\n",
    "\n",
    "#Starting another Spark session, this time locally specific for the modeling\n",
    "from pyspark.sql import SparkSession\n",
    "spark = SparkSession.builder.appName('ds_a24eliak_modeling').getOrCreate()"
   ]
  },
  {
   "cell_type": "code",
   "execution_count": 5,
   "id": "de565dda-c593-4e43-9c4e-8469d4e1c47b",
   "metadata": {},
   "outputs": [],
   "source": [
    "df_modeling = spark.read.csv(r'C:\\Users\\WhyWh\\Downloads\\a24_eliak\\ds_a24eliak_clean.csv', header = True, inferSchema = True)"
   ]
  },
  {
   "cell_type": "code",
   "execution_count": 7,
   "id": "e4cc9e79-77f1-4e20-820d-15fc1543e139",
   "metadata": {},
   "outputs": [
    {
     "name": "stdout",
     "output_type": "stream",
     "text": [
      "root\n",
      " |-- adv_day: integer (nullable = true)\n",
      " |-- weighted_class: double (nullable = true)\n",
      " |-- label_punctuality: integer (nullable = true)\n",
      " |-- train_owner_MTRX: double (nullable = true)\n",
      " |-- train_owner_Other: double (nullable = true)\n",
      " |-- train_owner_SJ: double (nullable = true)\n",
      " |-- train_owner_TÅGAB: double (nullable = true)\n",
      " |-- train_owner_VASTTRAF: double (nullable = true)\n",
      " |-- train_owner_VY: double (nullable = true)\n",
      " |-- train_owner_Ö-TÅG: double (nullable = true)\n",
      " |-- location_Alingsas: double (nullable = true)\n",
      " |-- location_Boras: double (nullable = true)\n",
      " |-- location_Falkoping: double (nullable = true)\n",
      " |-- location_Gothenburg: double (nullable = true)\n",
      " |-- location_Molndal: double (nullable = true)\n",
      " |-- location_Other: double (nullable = true)\n",
      " |-- location_Skovde: double (nullable = true)\n",
      " |-- location_Trollhattan: double (nullable = true)\n",
      " |-- location_Uddevalla: double (nullable = true)\n",
      " |-- location_Vanersborg: double (nullable = true)\n",
      " |-- deviation_code_ANA003: double (nullable = true)\n",
      " |-- deviation_code_ANA005: double (nullable = true)\n",
      " |-- deviation_code_ANA006: double (nullable = true)\n",
      " |-- deviation_code_ANA007: double (nullable = true)\n",
      " |-- deviation_code_ANA011: double (nullable = true)\n",
      " |-- deviation_code_ANA016: double (nullable = true)\n",
      " |-- deviation_code_ANA018: double (nullable = true)\n",
      " |-- deviation_code_ANA023: double (nullable = true)\n",
      " |-- deviation_code_ANA027: double (nullable = true)\n",
      " |-- deviation_code_ANA028: double (nullable = true)\n",
      " |-- deviation_code_ANA030: double (nullable = true)\n",
      " |-- deviation_code_ANA031: double (nullable = true)\n",
      " |-- deviation_code_ANA034: double (nullable = true)\n",
      " |-- deviation_code_ANA044: double (nullable = true)\n",
      " |-- deviation_code_ANA050: double (nullable = true)\n",
      " |-- deviation_code_ANA055: double (nullable = true)\n",
      " |-- deviation_code_ANA063: double (nullable = true)\n",
      " |-- deviation_code_ANA064: double (nullable = true)\n",
      " |-- deviation_code_ANA065: double (nullable = true)\n",
      " |-- deviation_code_ANA071: double (nullable = true)\n",
      " |-- deviation_code_ANA073: double (nullable = true)\n",
      " |-- deviation_code_ANA074: double (nullable = true)\n",
      " |-- deviation_code_ANA083: double (nullable = true)\n",
      " |-- deviation_code_ANA090: double (nullable = true)\n",
      " |-- deviation_code_ANA274: double (nullable = true)\n",
      " |-- deviation_code_None: double (nullable = true)\n",
      " |-- canceled_number: integer (nullable = true)\n",
      " |-- adv_time_hour_numerical: double (nullable = true)\n",
      "\n"
     ]
    }
   ],
   "source": [
    "df_modeling.printSchema()"
   ]
  },
  {
   "cell_type": "code",
   "execution_count": 11,
   "id": "d8950349-a099-4691-aa64-11d96da93486",
   "metadata": {},
   "outputs": [],
   "source": [
    "from pyspark.ml.feature import VectorAssembler\n",
    "\n",
    "#Combining multiple columns except the target variable, where these are features\n",
    "feature_cols = [c for c in df_modeling.columns if c not in ['label_punctuality', 'weighted_class']]\n",
    "\n",
    "#Combining all the features into one column of features\n",
    "assembler = VectorAssembler(inputCols = feature_cols, outputCol = 'features')\n",
    "\n",
    "#Transforming and keeping only the features, and label_punctuality as the target\n",
    "df_final = assembler.transform(df_modeling).select('features', 'label_punctuality', 'weighted_class')"
   ]
  },
  {
   "cell_type": "markdown",
   "id": "24976786-635f-415d-bba9-14c39b72325a",
   "metadata": {},
   "source": [
    "**TRAIN, TEST, SPLIT DATA**"
   ]
  },
  {
   "cell_type": "code",
   "execution_count": 13,
   "id": "f7701e89-ea63-4a5b-bb03-7c527d2896db",
   "metadata": {},
   "outputs": [],
   "source": [
    "#Train, test and splitting the data before implementing the models\n",
    "train_df, test_df = df_final.randomSplit([0.8, 0.2], seed = 30)"
   ]
  },
  {
   "cell_type": "markdown",
   "id": "4752944a-a9b5-4869-b48d-bdd3949ca036",
   "metadata": {},
   "source": [
    "# Modeling"
   ]
  },
  {
   "cell_type": "code",
   "execution_count": 283,
   "id": "ea9b86e6-f3fe-4663-a027-ff42d3532d8c",
   "metadata": {},
   "outputs": [],
   "source": [
    "#Implementing the different classification models"
   ]
  },
  {
   "cell_type": "markdown",
   "id": "c4de0966-976f-4b7c-a9cb-77fa393f868e",
   "metadata": {},
   "source": [
    "**LOGISTIC REGRESSION**"
   ]
  },
  {
   "cell_type": "code",
   "execution_count": 15,
   "id": "72a2660d-de8b-47cd-9e18-7159cec5c964",
   "metadata": {},
   "outputs": [],
   "source": [
    "from pyspark.ml.classification import LogisticRegression"
   ]
  },
  {
   "cell_type": "code",
   "execution_count": 17,
   "id": "ed5098c4-b17c-4d5f-80bb-c70f2c7d0ba7",
   "metadata": {},
   "outputs": [],
   "source": [
    "lrc = LogisticRegression(featuresCol = 'features', \n",
    "                         labelCol = 'label_punctuality',\n",
    "                         weightCol = 'weighted_class',\n",
    "                         maxIter = 50)"
   ]
  },
  {
   "cell_type": "code",
   "execution_count": 19,
   "id": "058de173-e487-4fc3-b181-04754cc964bc",
   "metadata": {},
   "outputs": [],
   "source": [
    "lrc_model = lrc.fit(train_df)"
   ]
  },
  {
   "cell_type": "code",
   "execution_count": 21,
   "id": "5a9d6144-a117-4ced-8913-3768fb55cdeb",
   "metadata": {},
   "outputs": [],
   "source": [
    "lrc_pred = lrc_model.transform(test_df)"
   ]
  },
  {
   "cell_type": "markdown",
   "id": "f02d9f5a-0da0-4858-8e0f-4e5fb3b6fb3b",
   "metadata": {},
   "source": [
    "**DECISION TREE**"
   ]
  },
  {
   "cell_type": "code",
   "execution_count": 23,
   "id": "48a3a7eb-5836-4eae-a6bd-756c3f9e903f",
   "metadata": {},
   "outputs": [],
   "source": [
    "from pyspark.ml.classification import DecisionTreeClassifier"
   ]
  },
  {
   "cell_type": "code",
   "execution_count": 25,
   "id": "265d7334-39b8-4aa5-a606-80e799ccfabe",
   "metadata": {},
   "outputs": [],
   "source": [
    "dtc = DecisionTreeClassifier(featuresCol = 'features', \n",
    "                             labelCol = 'label_punctuality',\n",
    "                             weightCol = 'weighted_class')"
   ]
  },
  {
   "cell_type": "code",
   "execution_count": 27,
   "id": "c5bfab69-d3a1-4dbc-9d14-6abf856aecdd",
   "metadata": {},
   "outputs": [],
   "source": [
    "dtc_model = dtc.fit(train_df)"
   ]
  },
  {
   "cell_type": "code",
   "execution_count": 29,
   "id": "f0f8abf3-4261-41a7-b276-c260885f172e",
   "metadata": {},
   "outputs": [],
   "source": [
    "dtc_pred = dtc_model.transform(test_df)"
   ]
  },
  {
   "cell_type": "markdown",
   "id": "18db2d28-e73c-4cb7-bc2e-5f3a46303ddf",
   "metadata": {},
   "source": [
    "**RANDOM FOREST**"
   ]
  },
  {
   "cell_type": "code",
   "execution_count": 31,
   "id": "1a62b40e-247a-49bb-88a0-5f9d11ccbace",
   "metadata": {},
   "outputs": [],
   "source": [
    "from pyspark.ml.classification import RandomForestClassifier"
   ]
  },
  {
   "cell_type": "code",
   "execution_count": 33,
   "id": "98172700-ec31-4a92-a8bf-71627378dac7",
   "metadata": {},
   "outputs": [],
   "source": [
    "rfc = RandomForestClassifier(featuresCol = 'features', \n",
    "                             labelCol = 'label_punctuality', \n",
    "                             weightCol = 'weighted_class',\n",
    "                             numTrees = 50)"
   ]
  },
  {
   "cell_type": "code",
   "execution_count": 35,
   "id": "03688309-aa75-411a-9200-74349efc3dbf",
   "metadata": {},
   "outputs": [],
   "source": [
    "rfc_model = rfc.fit(train_df)"
   ]
  },
  {
   "cell_type": "code",
   "execution_count": 36,
   "id": "121ddcf3-8290-4509-840c-f4fc55f577bc",
   "metadata": {},
   "outputs": [],
   "source": [
    "rfc_pred = rfc_model.transform(test_df)"
   ]
  },
  {
   "cell_type": "markdown",
   "id": "f738447c-503a-43dc-8b65-00091c62f77e",
   "metadata": {},
   "source": [
    "**GBT**"
   ]
  },
  {
   "cell_type": "code",
   "execution_count": 39,
   "id": "f9dfdb91-8b09-4c05-8f3b-0ad87d59990e",
   "metadata": {},
   "outputs": [],
   "source": [
    "from pyspark.ml.classification import GBTClassifier"
   ]
  },
  {
   "cell_type": "code",
   "execution_count": 41,
   "id": "a188a169-5cd4-40bf-b3f3-b618d94ef348",
   "metadata": {},
   "outputs": [],
   "source": [
    "gbtc = GBTClassifier(featuresCol = 'features', \n",
    "                     labelCol = 'label_punctuality', \n",
    "                     maxIter = 50)"
   ]
  },
  {
   "cell_type": "code",
   "execution_count": 43,
   "id": "47708cb8-d12f-4ac8-b9b5-90275938611c",
   "metadata": {},
   "outputs": [],
   "source": [
    "gbtc_model = gbtc.fit(train_df)"
   ]
  },
  {
   "cell_type": "code",
   "execution_count": 45,
   "id": "3946c391-67d4-4210-bd25-e5beddd959dd",
   "metadata": {},
   "outputs": [],
   "source": [
    "gbtc_pred = gbtc_model.transform(test_df)"
   ]
  },
  {
   "cell_type": "markdown",
   "id": "8c9027fa-91c4-4a55-9218-c86378a6e673",
   "metadata": {},
   "source": [
    "## Evaluation of model performance"
   ]
  },
  {
   "cell_type": "code",
   "execution_count": 218,
   "id": "980559b6-89ad-4025-817b-f4e418afb253",
   "metadata": {},
   "outputs": [],
   "source": [
    "#Evaluating the different models depending on the metrics"
   ]
  },
  {
   "cell_type": "code",
   "execution_count": 47,
   "id": "10e8fe2e-7a00-4afb-ae23-f8dbd16c4e1a",
   "metadata": {},
   "outputs": [],
   "source": [
    "from pyspark.ml.evaluation import MulticlassClassificationEvaluator"
   ]
  },
  {
   "cell_type": "markdown",
   "id": "5a01cbeb-238c-4cff-800a-ef4631adbcfc",
   "metadata": {},
   "source": [
    "**ACCURACY**"
   ]
  },
  {
   "cell_type": "code",
   "execution_count": 49,
   "id": "abb925bc-62d1-476c-9b68-d0226f0a63cb",
   "metadata": {},
   "outputs": [],
   "source": [
    "evlt_accuracy = MulticlassClassificationEvaluator(labelCol = 'label_punctuality', \n",
    "                                                  predictionCol = 'prediction',\n",
    "                                                  metricName = 'accuracy'\n",
    "                                                 )"
   ]
  },
  {
   "cell_type": "code",
   "execution_count": 51,
   "id": "dac14554-9d5d-457a-a7b5-970d6a356b8a",
   "metadata": {},
   "outputs": [
    {
     "name": "stdout",
     "output_type": "stream",
     "text": [
      "ACCURACY\n",
      "Logistic Regression:  0.9748376623376623\n",
      "Decision Tree:  0.983495670995671\n",
      "Random Forest:  0.9402056277056277\n",
      "GBT:  0.9867424242424242\n"
     ]
    }
   ],
   "source": [
    "print('ACCURACY')\n",
    "print('Logistic Regression: ', evlt_accuracy.evaluate(lrc_pred))\n",
    "print('Decision Tree: ', evlt_accuracy.evaluate(dtc_pred))\n",
    "print('Random Forest: ', evlt_accuracy.evaluate(rfc_pred))\n",
    "print('GBT: ', evlt_accuracy.evaluate(gbtc_pred))"
   ]
  },
  {
   "cell_type": "markdown",
   "id": "4759ffd9-65e5-4ab9-9b64-173cf8804891",
   "metadata": {},
   "source": [
    "**PRECISION**"
   ]
  },
  {
   "cell_type": "code",
   "execution_count": 53,
   "id": "9a50ba27-8498-4504-be0d-acd4fbebba60",
   "metadata": {},
   "outputs": [],
   "source": [
    "evlt_precision = MulticlassClassificationEvaluator(labelCol = 'label_punctuality', \n",
    "                                         predictionCol = 'prediction',\n",
    "                                         metricName = 'weightedPrecision'\n",
    "                                                  )"
   ]
  },
  {
   "cell_type": "code",
   "execution_count": 55,
   "id": "86f82028-1c2c-4736-be0d-d70a820c81d3",
   "metadata": {},
   "outputs": [
    {
     "name": "stdout",
     "output_type": "stream",
     "text": [
      "PRECISION:\n",
      "Logistic Regression:  0.9786117651700055\n",
      "Decision Tree:  0.9853880846597012\n",
      "Random Forest:  0.9593018072967495\n",
      "GBT:  0.9872747214339193\n"
     ]
    }
   ],
   "source": [
    "print('PRECISION:')\n",
    "print('Logistic Regression: ', evlt_precision.evaluate(lrc_pred))\n",
    "print('Decision Tree: ', evlt_precision.evaluate(dtc_pred))\n",
    "print('Random Forest: ', evlt_precision.evaluate(rfc_pred))\n",
    "print('GBT: ', evlt_precision.evaluate(gbtc_pred))"
   ]
  },
  {
   "cell_type": "markdown",
   "id": "960d0a4c-cb2e-4c7e-9c1d-34ffe1c5bcfd",
   "metadata": {},
   "source": [
    "**RECALL**"
   ]
  },
  {
   "cell_type": "code",
   "execution_count": 57,
   "id": "a293a212-1f6c-4b60-b333-6775a197ebf4",
   "metadata": {},
   "outputs": [],
   "source": [
    "evlt_recall = MulticlassClassificationEvaluator(labelCol = 'label_punctuality', \n",
    "                                                predictionCol = 'prediction',\n",
    "                                                metricName = 'weightedRecall'\n",
    "                                                )"
   ]
  },
  {
   "cell_type": "code",
   "execution_count": 59,
   "id": "56435820-418b-4b90-8887-adb829f4bb68",
   "metadata": {},
   "outputs": [
    {
     "name": "stdout",
     "output_type": "stream",
     "text": [
      "RECALL:\n",
      "Logistic Regression:  0.9748376623376623\n",
      "Decision Tree:  0.983495670995671\n",
      "Random Forest:  0.9402056277056278\n",
      "GBT:  0.9867424242424243\n"
     ]
    }
   ],
   "source": [
    "print('RECALL:')\n",
    "print('Logistic Regression: ', evlt_recall.evaluate(lrc_pred))\n",
    "print('Decision Tree: ', evlt_recall.evaluate(dtc_pred))\n",
    "print('Random Forest: ', evlt_recall.evaluate(rfc_pred))\n",
    "print('GBT: ', evlt_recall.evaluate(gbtc_pred))"
   ]
  },
  {
   "cell_type": "markdown",
   "id": "a3cbf0b7-92d6-439c-b88f-e3c747f330a7",
   "metadata": {},
   "source": [
    "**F1**"
   ]
  },
  {
   "cell_type": "code",
   "execution_count": 61,
   "id": "0e9b22f1-e7c9-43dc-82e1-0b935a274706",
   "metadata": {},
   "outputs": [],
   "source": [
    "evlt_f1 = MulticlassClassificationEvaluator(labelCol = 'label_punctuality', \n",
    "                                            predictionCol = 'prediction',\n",
    "                                            metricName = 'f1'\n",
    "                                            )"
   ]
  },
  {
   "cell_type": "code",
   "execution_count": 65,
   "id": "7b307635-4825-4a1d-ab9c-2a7480e905dc",
   "metadata": {},
   "outputs": [
    {
     "name": "stdout",
     "output_type": "stream",
     "text": [
      "F1-SCORE:\n",
      "Logistic Regression:  0.975729356567477\n",
      "Decision Tree:  0.9839187585398202\n",
      "Random Forest:  0.9448261357320854\n",
      "GBT:  0.9868992622514456\n"
     ]
    }
   ],
   "source": [
    "print('F1-SCORE:')\n",
    "print('Logistic Regression: ', evlt_f1.evaluate(lrc_pred))\n",
    "print('Decision Tree: ', evlt_f1.evaluate(dtc_pred))\n",
    "print('Random Forest: ', evlt_f1.evaluate(rfc_pred))\n",
    "print('GBT: ', evlt_f1.evaluate(gbtc_pred))"
   ]
  },
  {
   "cell_type": "markdown",
   "id": "3c4d99a8-0570-4874-8d73-76938895a618",
   "metadata": {},
   "source": [
    "**ROC AUC**"
   ]
  },
  {
   "cell_type": "code",
   "execution_count": 67,
   "id": "0d4b5cf8-a8ce-4b1d-9b73-2d9cc004879f",
   "metadata": {},
   "outputs": [],
   "source": [
    "from pyspark.ml.evaluation import BinaryClassificationEvaluator"
   ]
  },
  {
   "cell_type": "code",
   "execution_count": 69,
   "id": "4e902d34-76ea-4021-afb6-083fcc8abd0d",
   "metadata": {},
   "outputs": [],
   "source": [
    "evlt_roc_auc = BinaryClassificationEvaluator(labelCol = 'label_punctuality',\n",
    "                                            rawPredictionCol = 'rawPrediction',\n",
    "                                             metricName = 'areaUnderROC'\n",
    "                                            )"
   ]
  },
  {
   "cell_type": "code",
   "execution_count": 71,
   "id": "e77b8f24-3f24-4970-8060-8be79e564531",
   "metadata": {},
   "outputs": [
    {
     "name": "stdout",
     "output_type": "stream",
     "text": [
      "ROC AUC: \n",
      "Logistic Regression:  0.9930650603202815\n",
      "Decision Tree:  0.9901130696686911\n",
      "Random Forest:  0.9887786171595977\n",
      "GBT:  0.9970835596372554\n"
     ]
    }
   ],
   "source": [
    "print('ROC AUC: ')\n",
    "print('Logistic Regression: ', evlt_roc_auc.evaluate(lrc_pred))\n",
    "print('Decision Tree: ', evlt_roc_auc.evaluate(dtc_pred))\n",
    "print('Random Forest: ', evlt_roc_auc.evaluate(rfc_pred))\n",
    "print('GBT: ', evlt_roc_auc.evaluate(gbtc_pred))"
   ]
  },
  {
   "cell_type": "markdown",
   "id": "42b327f0-f30e-4125-bffa-75ece982c948",
   "metadata": {},
   "source": [
    "## Evaluation and comparison of models"
   ]
  },
  {
   "cell_type": "code",
   "execution_count": 73,
   "id": "c63fe8b8-ada4-4dd7-983b-b32a76369735",
   "metadata": {},
   "outputs": [
    {
     "name": "stdout",
     "output_type": "stream",
     "text": [
      "__________________________________________\n",
      "#ACCURACY: \n",
      "Logistic Regression:  0.9748376623376623\n",
      "Decision Tree:  0.983495670995671\n",
      "Random Forest:  0.9402056277056277\n",
      "GBT:  0.9867424242424242\n",
      "__________________________________________\n",
      "#PRECISION:\n",
      "Logistic Regression:  0.9786117651700055\n",
      "Decision Tree:  0.9853880846597012\n",
      "Random Forest:  0.9593018072967495\n",
      "GBT:  0.9872747214339193\n",
      "__________________________________________\n",
      "#RECALL:\n",
      "Logistic Regression:  0.9748376623376623\n",
      "Decision Tree:  0.983495670995671\n",
      "Random Forest:  0.9402056277056278\n",
      "GBT:  0.9867424242424243\n",
      "__________________________________________\n",
      "#F1-SCORE:\n",
      "Logistic Regression:  0.975729356567477\n",
      "Decision Tree:  0.9839187585398202\n",
      "Random Forest:  0.9448261357320854\n",
      "GBT:  0.9868992622514456\n",
      "__________________________________________\n",
      "#ROC AUC: \n",
      "Logistic Regression:  0.9930650603202815\n",
      "Decision Tree:  0.9901130696686911\n",
      "Random Forest:  0.9887786171595977\n",
      "GBT:  0.9970835596372554\n",
      "__________________________________________\n"
     ]
    }
   ],
   "source": [
    "#Comparing all of the metrics for all the model in a overview:\n",
    "print('__________________________________________')\n",
    "print('#ACCURACY: ')\n",
    "print('Logistic Regression: ', evlt_accuracy.evaluate(lrc_pred))\n",
    "print('Decision Tree: ', evlt_accuracy.evaluate(dtc_pred))\n",
    "print('Random Forest: ', evlt_accuracy.evaluate(rfc_pred))\n",
    "print('GBT: ', evlt_accuracy.evaluate(gbtc_pred))\n",
    "print('__________________________________________')\n",
    "print('#PRECISION:')\n",
    "print('Logistic Regression: ', evlt_precision.evaluate(lrc_pred))\n",
    "print('Decision Tree: ', evlt_precision.evaluate(dtc_pred))\n",
    "print('Random Forest: ', evlt_precision.evaluate(rfc_pred))\n",
    "print('GBT: ', evlt_precision.evaluate(gbtc_pred))\n",
    "print('__________________________________________')\n",
    "print('#RECALL:')\n",
    "print('Logistic Regression: ', evlt_recall.evaluate(lrc_pred))\n",
    "print('Decision Tree: ', evlt_recall.evaluate(dtc_pred))\n",
    "print('Random Forest: ', evlt_recall.evaluate(rfc_pred))\n",
    "print('GBT: ', evlt_recall.evaluate(gbtc_pred))\n",
    "print('__________________________________________')\n",
    "print('#F1-SCORE:')\n",
    "print('Logistic Regression: ', evlt_f1.evaluate(lrc_pred))\n",
    "print('Decision Tree: ', evlt_f1.evaluate(dtc_pred))\n",
    "print('Random Forest: ', evlt_f1.evaluate(rfc_pred))\n",
    "print('GBT: ', evlt_f1.evaluate(gbtc_pred))\n",
    "print('__________________________________________')\n",
    "print('#ROC AUC: ')\n",
    "print('Logistic Regression: ', evlt_roc_auc.evaluate(lrc_pred))\n",
    "print('Decision Tree: ', evlt_roc_auc.evaluate(dtc_pred))\n",
    "print('Random Forest: ', evlt_roc_auc.evaluate(rfc_pred))\n",
    "print('GBT: ', evlt_roc_auc.evaluate(gbtc_pred))\n",
    "print('__________________________________________')"
   ]
  },
  {
   "cell_type": "markdown",
   "id": "f316f317-f4b5-42d2-97a6-9433d15e3487",
   "metadata": {},
   "source": [
    "## Hyperparameter tuning"
   ]
  },
  {
   "cell_type": "code",
   "execution_count": 75,
   "id": "56ee396a-0946-41f9-9867-867a54a1befc",
   "metadata": {},
   "outputs": [],
   "source": [
    "#Hyperparameter tuning the models to see if they could slightly improve a little bit even though\n",
    "#the values are high for all the models\n",
    "\n",
    "from pyspark.ml.tuning import ParamGridBuilder"
   ]
  },
  {
   "cell_type": "code",
   "execution_count": 77,
   "id": "3efcdac1-61f5-4a39-a690-f7d1bf393e4b",
   "metadata": {},
   "outputs": [],
   "source": [
    "#Logistic regression\n",
    "param_grid_lrc = ParamGridBuilder().addGrid(lrc.regParam, [0.01, 0.1, 0.2])\\\n",
    "                                    .addGrid(lrc.elasticNetParam, [0, 0.01, 0.02, 0.05]).build()"
   ]
  },
  {
   "cell_type": "code",
   "execution_count": 79,
   "id": "2102a84f-bf23-4201-87cc-ce2ba439e338",
   "metadata": {},
   "outputs": [],
   "source": [
    "#Decision tree\n",
    "param_grid_dtc = ParamGridBuilder().addGrid(dtc.maxDepth, [3, 5, 7, 10])\\\n",
    "                                    .addGrid(dtc.minInstancesPerNode, [1, 3, 5]).build()"
   ]
  },
  {
   "cell_type": "code",
   "execution_count": 81,
   "id": "1920de7c-3014-40b2-90d4-0db2e9401b3d",
   "metadata": {},
   "outputs": [],
   "source": [
    "#Random forest\n",
    "param_grid_rfc = ParamGridBuilder().addGrid(rfc.numTrees, [50, 100, 150])\\\n",
    "                                    .addGrid(rfc.maxDepth, [3, 5, 7, 10]).build()"
   ]
  },
  {
   "cell_type": "code",
   "execution_count": 83,
   "id": "62cf0109-e81f-42e3-8461-d9eddaab54e9",
   "metadata": {},
   "outputs": [],
   "source": [
    "#GBT\n",
    "param_grid_gbtc = ParamGridBuilder().addGrid(gbtc.maxIter, [50, 70])\\\n",
    "                                    .addGrid(gbtc.maxDepth, [3, 5, 7]).build()"
   ]
  },
  {
   "cell_type": "code",
   "execution_count": 238,
   "id": "a4fe26c4-adda-4a42-98c3-b8008b30af44",
   "metadata": {},
   "outputs": [],
   "source": [
    "#Setting up the tuning by focusing on the ROC AUC as the evaluator since classes are imbalanced\n",
    "#and by comparing the models afterwards, the best model will be chosen as the final one"
   ]
  },
  {
   "cell_type": "code",
   "execution_count": 85,
   "id": "74687299-a3ed-40a6-bcd2-e370e7d18d1b",
   "metadata": {},
   "outputs": [],
   "source": [
    "from pyspark.ml.tuning import CrossValidator"
   ]
  },
  {
   "cell_type": "code",
   "execution_count": 87,
   "id": "1c2edee9-d050-4e30-9f5f-a6fa1047ca8e",
   "metadata": {},
   "outputs": [],
   "source": [
    "#Logistic regression\n",
    "cv_lrc = CrossValidator(estimator = lrc, evaluator = evlt_roc_auc, \n",
    "                        estimatorParamMaps = param_grid_lrc, numFolds = 3)"
   ]
  },
  {
   "cell_type": "code",
   "execution_count": 89,
   "id": "c8230f61-2bf4-4736-83c3-434cfb6d751b",
   "metadata": {},
   "outputs": [],
   "source": [
    "#Decision tree\n",
    "cv_dtc = CrossValidator(estimator = dtc, evaluator = evlt_roc_auc, \n",
    "                        estimatorParamMaps = param_grid_dtc, numFolds = 3)"
   ]
  },
  {
   "cell_type": "code",
   "execution_count": 91,
   "id": "9331b4d7-b705-481c-a031-59b1c9733d80",
   "metadata": {},
   "outputs": [],
   "source": [
    "#Random forest\n",
    "cv_rfc = CrossValidator(estimator = rfc, evaluator = evlt_roc_auc, \n",
    "                        estimatorParamMaps = param_grid_rfc, numFolds = 3)"
   ]
  },
  {
   "cell_type": "code",
   "execution_count": 93,
   "id": "bb86d3ee-b72a-4695-a937-5b4de25585f0",
   "metadata": {},
   "outputs": [],
   "source": [
    "#GBT\n",
    "cv_gbtc = CrossValidator(estimator = gbtc, evaluator = evlt_roc_auc, parallelism = 2,\n",
    "                        estimatorParamMaps = param_grid_gbtc, numFolds = 3)"
   ]
  },
  {
   "cell_type": "code",
   "execution_count": null,
   "id": "ae3a18a4-ce4a-437e-b897-0747795b8dec",
   "metadata": {},
   "outputs": [],
   "source": [
    "#Fitting the models"
   ]
  },
  {
   "cell_type": "code",
   "execution_count": 95,
   "id": "7dfe4e59-29ef-4af7-89eb-69fb5f92a216",
   "metadata": {},
   "outputs": [],
   "source": [
    "cv_lrc_model = cv_lrc.fit(train_df)\n",
    "tuned_lrc = cv_lrc_model.bestModel"
   ]
  },
  {
   "cell_type": "code",
   "execution_count": 97,
   "id": "9f6657c6-c117-4c4f-a9ed-2bb9bc50d861",
   "metadata": {},
   "outputs": [],
   "source": [
    "cv_dtc_model = cv_dtc.fit(train_df)\n",
    "tuned_dtc = cv_dtc_model.bestModel"
   ]
  },
  {
   "cell_type": "code",
   "execution_count": 99,
   "id": "0ecac239-a08c-4022-b04c-86f4ff2ac448",
   "metadata": {},
   "outputs": [],
   "source": [
    "cv_rfc_model = cv_rfc.fit(train_df)\n",
    "tuned_rfc = cv_rfc_model.bestModel"
   ]
  },
  {
   "cell_type": "code",
   "execution_count": 101,
   "id": "3b4a4a5a-9caa-49b8-9921-2e54ab8161e5",
   "metadata": {},
   "outputs": [],
   "source": [
    "cv_gbtc_model = cv_gbtc.fit(train_df)\n",
    "tuned_gbtc = cv_gbtc_model.bestModel"
   ]
  },
  {
   "cell_type": "code",
   "execution_count": 103,
   "id": "a6afc46c-193d-440f-a95e-62d6eecbc597",
   "metadata": {},
   "outputs": [],
   "source": [
    "lrc_pred_cv = tuned_lrc.transform(test_df)"
   ]
  },
  {
   "cell_type": "code",
   "execution_count": 105,
   "id": "476a98b0-974d-48a4-af5b-2bc5a9886f5c",
   "metadata": {},
   "outputs": [],
   "source": [
    "dtc_pred_cv = tuned_dtc.transform(test_df)"
   ]
  },
  {
   "cell_type": "code",
   "execution_count": 107,
   "id": "9c1a6261-f9d0-41cc-bb94-4f38356380e8",
   "metadata": {},
   "outputs": [],
   "source": [
    "rfc_pred_cv = tuned_rfc.transform(test_df)"
   ]
  },
  {
   "cell_type": "code",
   "execution_count": 109,
   "id": "a70b4808-3233-4118-a175-0b92104d216a",
   "metadata": {},
   "outputs": [],
   "source": [
    "gbtc_pred_cv = tuned_gbtc.transform(test_df)"
   ]
  },
  {
   "cell_type": "code",
   "execution_count": 111,
   "id": "2bf9426a-9bc7-465c-b266-c46eddac53c7",
   "metadata": {},
   "outputs": [
    {
     "name": "stdout",
     "output_type": "stream",
     "text": [
      "__________________________________________\n",
      "#ROC AUC: BEFORE TUNING\n",
      "Logistic Regression:  0.9930650603202815\n",
      "Decision Tree:  0.9901130696686911\n",
      "Random Forest:  0.9887786171595977\n",
      "GBT:  0.9970835596372554\n",
      "__________________________________________\n",
      "#ROC AUC: AFTER TUNING\n",
      "Logistic Regression:  0.9899893019964112\n",
      "Decision Tree:  0.9914090093648679\n",
      "Random Forest:  0.9928323375960764\n",
      "GBT:  0.997031550881351\n",
      "__________________________________________\n"
     ]
    }
   ],
   "source": [
    "#Comparing the ROC AUC for the models before and after hyperparameter tuning\n",
    "print('__________________________________________')\n",
    "print('#ROC AUC: BEFORE TUNING')\n",
    "print('Logistic Regression: ', evlt_roc_auc.evaluate(lrc_pred))\n",
    "print('Decision Tree: ', evlt_roc_auc.evaluate(dtc_pred))\n",
    "print('Random Forest: ', evlt_roc_auc.evaluate(rfc_pred))\n",
    "print('GBT: ', evlt_roc_auc.evaluate(gbtc_pred))\n",
    "print('__________________________________________')\n",
    "print('#ROC AUC: AFTER TUNING')\n",
    "print('Logistic Regression: ', evlt_roc_auc.evaluate(lrc_pred_cv))\n",
    "print('Decision Tree: ', evlt_roc_auc.evaluate(dtc_pred_cv))\n",
    "print('Random Forest: ', evlt_roc_auc.evaluate(rfc_pred_cv))\n",
    "print('GBT: ', evlt_roc_auc.evaluate(gbtc_pred_cv))\n",
    "print('__________________________________________')"
   ]
  },
  {
   "cell_type": "code",
   "execution_count": 129,
   "id": "722fd7ea-56cf-4ac2-839d-c3f1de8ac957",
   "metadata": {},
   "outputs": [
    {
     "name": "stdout",
     "output_type": "stream",
     "text": [
      "Logistic Regression\n",
      "regParam:  0.01\n",
      "elasticNetParam:  0.05\n",
      "__________________________________________\n",
      "Decision tree\n",
      "maxDepth:  10\n",
      "minInstancesPerNode:  5\n",
      "__________________________________________\n",
      "Random forest\n",
      "maxDepth:  10\n",
      "__________________________________________\n",
      "GBT\n",
      "maxIter:  70\n",
      "maxDepth:  5\n",
      "__________________________________________\n"
     ]
    }
   ],
   "source": [
    "#Checking the best hyperparameter values for every model\n",
    "#LOGISTIC REGRESSION\n",
    "print('Logistic Regression')\n",
    "print('regParam: ', tuned_lrc.getRegParam())\n",
    "print('elasticNetParam: ', tuned_lrc.getElasticNetParam())\n",
    "print('__________________________________________')\n",
    "\n",
    "#DECISION TREE\n",
    "print('Decision tree')\n",
    "print('maxDepth: ', tuned_dtc.getMaxDepth())\n",
    "print('minInstancesPerNode: ', tuned_dtc.getMinInstancesPerNode())\n",
    "print('__________________________________________')\n",
    "\n",
    "#RANDOM FOREST\n",
    "print('Random forest')\n",
    "print('numTrees: ', tuned_rfc.getNumTrees())\n",
    "print('maxDepth: ', tuned_rfc.getMaxDepth())\n",
    "print('__________________________________________')\n",
    "\n",
    "#GBT\n",
    "print('GBT')\n",
    "print('maxIter: ', tuned_gbtc.getMaxIter())\n",
    "print('maxDepth: ', tuned_gbtc.getMaxDepth())\n",
    "print('__________________________________________')"
   ]
  },
  {
   "cell_type": "markdown",
   "id": "55c015e3-aa91-496c-ab00-104ea4fff224",
   "metadata": {},
   "source": [
    "## Classification Report"
   ]
  },
  {
   "cell_type": "code",
   "execution_count": 180,
   "id": "2e7b635f-c893-4f4a-a0be-13abbc004dbd",
   "metadata": {},
   "outputs": [],
   "source": [
    "#Checking the classification report to look through the different labels separately for the metrics\n",
    "from sklearn.metrics import classification_report\n",
    "import numpy as np"
   ]
  },
  {
   "cell_type": "markdown",
   "id": "527b1f20-c7f4-4ee8-9755-2dce6d509e62",
   "metadata": {},
   "source": [
    "**LOGISTIC REGRESSION**"
   ]
  },
  {
   "cell_type": "code",
   "execution_count": 185,
   "id": "15d1ed35-7143-424f-9652-1e2913085e8c",
   "metadata": {},
   "outputs": [],
   "source": [
    "lrc_pd = tuned_lrc.transform(test_df).select('label_punctuality', 'probability').toPandas()"
   ]
  },
  {
   "cell_type": "code",
   "execution_count": 187,
   "id": "0860fcc7-8e5d-4178-b9f4-f2294803d0b6",
   "metadata": {},
   "outputs": [],
   "source": [
    "lrc_pd['probability_delayed'] = lrc_pd['probability'].apply(lambda x: x[0])"
   ]
  },
  {
   "cell_type": "code",
   "execution_count": 189,
   "id": "843d23ac-6d0b-48a0-9e2b-98dac4cd7c7d",
   "metadata": {},
   "outputs": [],
   "source": [
    "y_true_lbl_lrc = lrc_pd['label_punctuality'] \n",
    "y_score_probability_lrc = lrc_pd['probability_delayed']"
   ]
  },
  {
   "cell_type": "code",
   "execution_count": 191,
   "id": "4089c3b8-92d3-40af-bc16-6b4cbbeeee84",
   "metadata": {},
   "outputs": [],
   "source": [
    "y_pred_lrc = np.where(y_score_probability_lrc >= 0.5, 0, 1)"
   ]
  },
  {
   "cell_type": "markdown",
   "id": "86bd839a-b029-4ea3-9e06-e274e2122631",
   "metadata": {},
   "source": [
    "**DECISION TREE**"
   ]
  },
  {
   "cell_type": "code",
   "execution_count": 193,
   "id": "95992586-1ed2-42d0-b21e-b4938e995daa",
   "metadata": {},
   "outputs": [],
   "source": [
    "dtc_pd = tuned_dtc.transform(test_df).select('label_punctuality', 'probability').toPandas()"
   ]
  },
  {
   "cell_type": "code",
   "execution_count": 195,
   "id": "4ed13530-57f4-4004-a4b9-f8783cafbf3c",
   "metadata": {},
   "outputs": [],
   "source": [
    "dtc_pd['probability_delayed'] = dtc_pd['probability'].apply(lambda x: x[0])"
   ]
  },
  {
   "cell_type": "code",
   "execution_count": 197,
   "id": "518d4cc8-c18f-46ec-b1dc-3bdf5ea8e2dc",
   "metadata": {},
   "outputs": [],
   "source": [
    "y_true_lbl_dtc = dtc_pd['label_punctuality'] \n",
    "y_score_probability_dtc = dtc_pd['probability_delayed']"
   ]
  },
  {
   "cell_type": "code",
   "execution_count": 199,
   "id": "04ab8525-b3e3-4d4e-a5bf-5bd8d64a82a4",
   "metadata": {},
   "outputs": [],
   "source": [
    "y_pred_dtc = np.where(y_score_probability_dtc >= 0.5, 0, 1)"
   ]
  },
  {
   "cell_type": "markdown",
   "id": "a233a0bb-84f1-444d-bea7-9d7dbb0956e2",
   "metadata": {},
   "source": [
    "**RANDOM FOREST**"
   ]
  },
  {
   "cell_type": "code",
   "execution_count": 201,
   "id": "0265cadf-97b6-4cc7-a96c-2f3e7f08cc92",
   "metadata": {},
   "outputs": [],
   "source": [
    "rfc_pd = tuned_rfc.transform(test_df).select('label_punctuality', 'probability').toPandas()"
   ]
  },
  {
   "cell_type": "code",
   "execution_count": 203,
   "id": "cf59bdeb-c392-4fb8-ae65-2409b7ff28d1",
   "metadata": {},
   "outputs": [],
   "source": [
    "rfc_pd['probability_delayed'] = rfc_pd['probability'].apply(lambda x: x[0])"
   ]
  },
  {
   "cell_type": "code",
   "execution_count": 205,
   "id": "4fde7c87-48e3-406e-a9b0-8ac2a3d40f56",
   "metadata": {},
   "outputs": [],
   "source": [
    "y_true_lbl_rfc = rfc_pd['label_punctuality'] \n",
    "y_score_probability_rfc = rfc_pd['probability_delayed']"
   ]
  },
  {
   "cell_type": "code",
   "execution_count": 207,
   "id": "4c848694-d3f3-436f-88a7-d6cca6d41f7a",
   "metadata": {},
   "outputs": [],
   "source": [
    "y_pred_rfc = np.where(y_score_probability_rfc >= 0.5, 0, 1)"
   ]
  },
  {
   "cell_type": "markdown",
   "id": "2f0d11d2-788d-4c6c-adfd-05bda7f014b1",
   "metadata": {},
   "source": [
    "**GBT**"
   ]
  },
  {
   "cell_type": "code",
   "execution_count": 209,
   "id": "0f9a0d7f-c31c-406a-b3ca-2051592c1478",
   "metadata": {},
   "outputs": [],
   "source": [
    "#Converting the Spark dataframe to Pandas in order to view the ROC curve, where the predictions\n",
    "#are generated, \n",
    "gbtc_pd = tuned_gbtc.transform(test_df).select('label_punctuality', 'probability').toPandas()"
   ]
  },
  {
   "cell_type": "code",
   "execution_count": 211,
   "id": "5d9cd62c-b077-49ef-87d4-e76538671fc8",
   "metadata": {},
   "outputs": [],
   "source": [
    "#Selecting the first element which is the delayed ones within the probabilities, \n",
    "#since 0 is delayed and 1 is punctual\n",
    "gbtc_pd['probability_delayed'] = gbtc_pd['probability'].apply(lambda x: x[0])"
   ]
  },
  {
   "cell_type": "code",
   "execution_count": 213,
   "id": "2179dfee-075f-4547-9a9d-9bc905f08a75",
   "metadata": {},
   "outputs": [],
   "source": [
    "#Assigning the labels that are true for delayed and punctual, and also the probability that is predicted\n",
    "y_true_lbl_gbtc = gbtc_pd['label_punctuality'] \n",
    "y_score_probability_gbtc = gbtc_pd['probability_delayed']"
   ]
  },
  {
   "cell_type": "code",
   "execution_count": 231,
   "id": "898fab53-87af-4a1d-9563-0f2cae384710",
   "metadata": {},
   "outputs": [],
   "source": [
    "#Creating the predicted class, checking the condition, and the probability if it is over 0,5\n",
    "y_pred_gbtc = np.where(y_score_probability_gbtc >= 0.5, 0, 1)"
   ]
  },
  {
   "cell_type": "code",
   "execution_count": 279,
   "id": "8be4004e-4569-4e6b-a5c5-4ffb59e4da5a",
   "metadata": {},
   "outputs": [
    {
     "name": "stdout",
     "output_type": "stream",
     "text": [
      "Logistic Regression: \n",
      "               precision    recall  f1-score   support\n",
      "\n",
      "  0: Delayed       1.00      0.88      0.94      3225\n",
      " 1: Punctual       0.55      1.00      0.71       471\n",
      "\n",
      "    accuracy                           0.89      3696\n",
      "   macro avg       0.77      0.94      0.82      3696\n",
      "weighted avg       0.94      0.89      0.91      3696\n",
      "\n"
     ]
    }
   ],
   "source": [
    "#LOGISTIC REGRESSION\n",
    "print(f'Logistic Regression: \\n {classification_report(y_true_lbl_lrc, y_pred_lrc, target_names = ['0: Delayed', '1: Punctual'])}')"
   ]
  },
  {
   "cell_type": "code",
   "execution_count": 221,
   "id": "1de38856-2006-4a41-b4be-3bce1b4ea40c",
   "metadata": {},
   "outputs": [
    {
     "name": "stdout",
     "output_type": "stream",
     "text": [
      "Decision Tree: \n",
      "               precision    recall  f1-score   support\n",
      "\n",
      "  0: Delayed       1.00      0.98      0.99      3225\n",
      " 1: Punctual       0.89      1.00      0.94       471\n",
      "\n",
      "    accuracy                           0.98      3696\n",
      "   macro avg       0.95      0.99      0.97      3696\n",
      "weighted avg       0.99      0.98      0.98      3696\n",
      "\n"
     ]
    }
   ],
   "source": [
    "#DECISION TREE\n",
    "print(f'Decision Tree: \\n {classification_report(y_true_lbl_dtc, y_pred_dtc, target_names = ['0: Delayed', '1: Punctual'])}')"
   ]
  },
  {
   "cell_type": "code",
   "execution_count": 225,
   "id": "e2ba07d1-e1d2-40f5-9907-481dc8c64951",
   "metadata": {},
   "outputs": [
    {
     "name": "stdout",
     "output_type": "stream",
     "text": [
      "Random Forest: \n",
      "               precision    recall  f1-score   support\n",
      "\n",
      "  0: Delayed       1.00      0.98      0.99      3225\n",
      " 1: Punctual       0.88      1.00      0.94       471\n",
      "\n",
      "    accuracy                           0.98      3696\n",
      "   macro avg       0.94      0.99      0.96      3696\n",
      "weighted avg       0.98      0.98      0.98      3696\n",
      "\n"
     ]
    }
   ],
   "source": [
    "#RANDOM FOREST\n",
    "print(f'Random Forest: \\n {classification_report(y_true_lbl_rfc, y_pred_rfc, target_names = ['0: Delayed', '1: Punctual'])}')"
   ]
  },
  {
   "cell_type": "code",
   "execution_count": 233,
   "id": "2ae74844-b5e8-4887-9409-3fa21c1e2eef",
   "metadata": {},
   "outputs": [
    {
     "name": "stdout",
     "output_type": "stream",
     "text": [
      "GBT: \n",
      "               precision    recall  f1-score   support\n",
      "\n",
      "  0: Delayed       1.00      0.99      0.99      3225\n",
      " 1: Punctual       0.92      0.97      0.95       471\n",
      "\n",
      "    accuracy                           0.99      3696\n",
      "   macro avg       0.96      0.98      0.97      3696\n",
      "weighted avg       0.99      0.99      0.99      3696\n",
      "\n"
     ]
    }
   ],
   "source": [
    "#GBT\n",
    "print(f'GBT: \\n {classification_report(y_true_lbl_gbtc, y_pred_gbtc, target_names = ['0: Delayed', '1: Punctual'])}')"
   ]
  },
  {
   "cell_type": "markdown",
   "id": "9e550427-a6ff-4239-ac7d-4df63e64d159",
   "metadata": {},
   "source": [
    "## ROC AUC"
   ]
  },
  {
   "cell_type": "code",
   "execution_count": 235,
   "id": "a1a4985f-0c19-44d4-8280-685719c399f6",
   "metadata": {},
   "outputs": [],
   "source": [
    "#All models performed with a best score, where only decimals differed them. In this case GBT has\n",
    "#been chosen, whereas here, the ROC AUC is being plotted"
   ]
  },
  {
   "cell_type": "code",
   "execution_count": 145,
   "id": "e5c36e75-7541-4613-8231-be54892c0575",
   "metadata": {},
   "outputs": [],
   "source": [
    "from sklearn.metrics import roc_curve, auc"
   ]
  },
  {
   "cell_type": "code",
   "execution_count": 147,
   "id": "13d15ac6-172f-4284-9c85-91574cd463b3",
   "metadata": {},
   "outputs": [],
   "source": [
    "#Calculating the false positive rate, and the true positive rate, while assigning the label \n",
    "#for positive, and thereafter computing the ROC\n",
    "fpr, tpr, _ = roc_curve(y_true_lbl_gbtc, y_score_probability_gbtc, pos_label = 0)\n",
    "roc_auc = auc(fpr, tpr)"
   ]
  },
  {
   "cell_type": "code",
   "execution_count": 149,
   "id": "e627b348-fba5-483b-9511-dc414185edcb",
   "metadata": {},
   "outputs": [],
   "source": [
    "import matplotlib.pyplot as plt"
   ]
  },
  {
   "cell_type": "code",
   "execution_count": 151,
   "id": "579251c3-eb7d-48ce-9ec6-a2a0520f68cf",
   "metadata": {},
   "outputs": [
    {
     "data": {
      "image/png": "[encoded data removed]",
      "text/plain": [
       "<Figure size 600x400 with 1 Axes>"
      ]
     },
     "metadata": {},
     "output_type": "display_data"
    }
   ],
   "source": [
    "#Visualizing the ROC Curve for ROC AUC\n",
    "plt.figure(figsize = (6,4))\n",
    "plt.plot(fpr, tpr, label = f'ROC AUC = {roc_auc}')\n",
    "plt.plot([0,1], [0,1], '-', color = 'black')\n",
    "plt.xlabel('False positive rate (FPR)')\n",
    "plt.ylabel('True positive rate (TPR)')\n",
    "plt.title('ROC Curve for best performed model: GBT')\n",
    "plt.legend()\n",
    "plt.show()"
   ]
  },
  {
   "cell_type": "code",
   "execution_count": 204,
   "id": "304c1258-212b-4fd4-8038-ef9db048ef21",
   "metadata": {},
   "outputs": [],
   "source": [
    "#Stopping Spark session\n",
    "spark.stop()"
   ]
  }
 ],
 "metadata": {
  "kernelspec": {
   "display_name": "Python 3 (ipykernel)",
   "language": "python",
   "name": "python3"
  },
  "language_info": {
   "codemirror_mode": {
    "name": "ipython",
    "version": 3
   },
   "file_extension": ".py",
   "mimetype": "text/x-python",
   "name": "python",
   "nbconvert_exporter": "python",
   "pygments_lexer": "ipython3",
   "version": "3.12.4"
  }
 },
 "nbformat": 4,
 "nbformat_minor": 5
}
